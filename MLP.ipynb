{
 "cells": [
  {
   "cell_type": "code",
   "execution_count": 29,
   "metadata": {},
   "outputs": [],
   "source": [
    "# MLP\n",
    "\n",
    "# função de ativação\n",
    "\n",
    "funcao.ativacao <- function(v) {\n",
    "        y <- 1 / (1 + exp(-v))\n",
    "        return (y)\n",
    "}\n",
    "\n",
    "# derivada da função de ativação\n",
    "\n",
    "der.funcao.ativacao <- function(y) {\n",
    "        derivada <- y * (1 - y)\n",
    "        return (derivada)\n",
    "}\n",
    "\n",
    "# arquitetura\n",
    "arquitetura <- function(num.entrada, num.escondida, num.saida,\n",
    "                            funcao.ativacao, der.funcao.ativacao) {\n",
    "    arq <- list()\n",
    "    arq$num.entrada <- num.entrada\n",
    "    arq$num.escondida <- num.escondida\n",
    "    arq$num.saida <- num.saida\n",
    "    arq$funcao.ativacao <- funcao.ativacao\n",
    "    arq$der.funcao.ativacao <- der.funcao.ativacao\n",
    "    \n",
    "    # 2 neurônios + bias\n",
    "    #      Ent1    Ent2     Bias\n",
    "    # 1    w11     w12      w13 \n",
    "    # 2    w21     w22      w23\n",
    "    \n",
    "    # pesos conectando a camada de entrada com a escondida\n",
    "    num.pesos.entrada.escondida <- (num.entrada+1) * num.escondida\n",
    "    arq$escondida <- matrix(runif(min=-0.5, max=0.5, num.pesos.entrada.escondida),\n",
    "                            nrow=num.escondida, ncol=num.entrada+1)\n",
    "    \n",
    "    # pesos conectando a camada escondida com a saída\n",
    "    num.pesos.escondida.saida <- (num.escondida+1) * num.saida\n",
    "    arq$saida <- matrix(runif(min=-0.5, max=0.5, num.pesos.escondida.saida),\n",
    "                            nrow=num.saida, ncol=num.escondida+1)\n",
    "    \n",
    "    return(arq)\n",
    "}"
   ]
  },
  {
   "cell_type": "code",
   "execution_count": 32,
   "metadata": {},
   "outputs": [],
   "source": [
    "# Propagação\n",
    "mlp.propagacao <- function(arq, exemplo) {\n",
    "    # Entrada -> Escondida\n",
    "    v.entrada.escondida <- arq$escondida %*% as.numeric(c(exemplo,1))\n",
    "    y.entrada.escondida <- arq$funcao.ativacao(v.entrada.escondida)\n",
    "    \n",
    "    \n",
    "    # Escondida -> Saída\n",
    "    v.escondida.saida <- arq$saida %*% c(y.entrada.escondida,1)\n",
    "    y.escondida.saida <- arq$funcao.ativacao(v.escondida.saida)\n",
    "    \n",
    "    # Resultados\n",
    "    resultados <- list()\n",
    "    resultados$v.entrada.escondida <- v.entrada.escondida\n",
    "    resultados$y.entrada.escondida <- y.entrada.escondida\n",
    "    resultados$v.escondida.saida <- v.escondida.saida\n",
    "    resultados$y.escondida.saida <- y.escondida.saida\n",
    "    \n",
    "    return(resultados)\n",
    "}"
   ]
  },
  {
   "cell_type": "code",
   "execution_count": 34,
   "metadata": {},
   "outputs": [
    {
     "data": {
      "text/html": [
       "<dl>\n",
       "\t<dt>$v.entrada.escondida</dt>\n",
       "\t\t<dd><table>\n",
       "<tbody>\n",
       "\t<tr><td>0.3852131</td></tr>\n",
       "\t<tr><td>1.0278886</td></tr>\n",
       "</tbody>\n",
       "</table>\n",
       "</dd>\n",
       "\t<dt>$y.entrada.escondida</dt>\n",
       "\t\t<dd><table>\n",
       "<tbody>\n",
       "\t<tr><td>0.5951298</td></tr>\n",
       "\t<tr><td>0.7365063</td></tr>\n",
       "</tbody>\n",
       "</table>\n",
       "</dd>\n",
       "\t<dt>$v.escondida.saida</dt>\n",
       "\t\t<dd><table>\n",
       "<tbody>\n",
       "\t<tr><td>-0.09191774</td></tr>\n",
       "</tbody>\n",
       "</table>\n",
       "</dd>\n",
       "\t<dt>$y.escondida.saida</dt>\n",
       "\t\t<dd><table>\n",
       "<tbody>\n",
       "\t<tr><td>0.4770367</td></tr>\n",
       "</tbody>\n",
       "</table>\n",
       "</dd>\n",
       "</dl>\n"
      ],
      "text/latex": [
       "\\begin{description}\n",
       "\\item[\\$v.entrada.escondida] \\begin{tabular}{l}\n",
       "\t 0.3852131\\\\\n",
       "\t 1.0278886\\\\\n",
       "\\end{tabular}\n",
       "\n",
       "\\item[\\$y.entrada.escondida] \\begin{tabular}{l}\n",
       "\t 0.5951298\\\\\n",
       "\t 0.7365063\\\\\n",
       "\\end{tabular}\n",
       "\n",
       "\\item[\\$v.escondida.saida] \\begin{tabular}{l}\n",
       "\t -0.09191774\\\\\n",
       "\\end{tabular}\n",
       "\n",
       "\\item[\\$y.escondida.saida] \\begin{tabular}{l}\n",
       "\t 0.4770367\\\\\n",
       "\\end{tabular}\n",
       "\n",
       "\\end{description}\n"
      ],
      "text/markdown": [
       "$v.entrada.escondida\n",
       ":   \n",
       "| 0.3852131 | \n",
       "| 1.0278886 | \n",
       "\n",
       "\n",
       "\n",
       "$y.entrada.escondida\n",
       ":   \n",
       "| 0.5951298 | \n",
       "| 0.7365063 | \n",
       "\n",
       "\n",
       "\n",
       "$v.escondida.saida\n",
       ":   \n",
       "| -0.09191774 | \n",
       "\n",
       "\n",
       "\n",
       "$y.escondida.saida\n",
       ":   \n",
       "| 0.4770367 | \n",
       "\n",
       "\n",
       "\n",
       "\n",
       "\n"
      ],
      "text/plain": [
       "$v.entrada.escondida\n",
       "          [,1]\n",
       "[1,] 0.3852131\n",
       "[2,] 1.0278886\n",
       "\n",
       "$y.entrada.escondida\n",
       "          [,1]\n",
       "[1,] 0.5951298\n",
       "[2,] 0.7365063\n",
       "\n",
       "$v.escondida.saida\n",
       "            [,1]\n",
       "[1,] -0.09191774\n",
       "\n",
       "$y.escondida.saida\n",
       "          [,1]\n",
       "[1,] 0.4770367\n"
      ]
     },
     "metadata": {},
     "output_type": "display_data"
    }
   ],
   "source": [
    "mlp.propagacao(arq, dados[4, 1:2])"
   ]
  },
  {
   "cell_type": "code",
   "execution_count": 51,
   "metadata": {},
   "outputs": [],
   "source": [
    "# Fase de backpropagation\n",
    "mpl.backpropagation <- function(arq, dados, n, limiar) {\n",
    "    erroQuadratico <- 2*limiar\n",
    "    epocas <- 0\n",
    "    \n",
    "    # Treina eqto erroQuadratico > limiar\n",
    "    while (erroQuadratico > limiar) {\n",
    "        erroQuadratico <- 0\n",
    "        \n",
    "        # Treino para todos os exemplos\n",
    "        for (i in 1:nrow(dados)) {\n",
    "            # exemplo de entrada\n",
    "            x.entrada <- dados[i, 1:arq$num.entrada]\n",
    "            x.saida <- dados[i, ncol(dados)]\n",
    "            #x.saida <- dados[i, -1]\n",
    "            \n",
    "            # saida da rede para o exemplo\n",
    "            resultado <- mlp.propagacao(arq, x.entrada)\n",
    "            y <- resultado$y.escondida.saida\n",
    "            \n",
    "            # Erro\n",
    "            erro <- x.saida - y\n",
    "            erroQuadratico <- erroQuadratico + erro*erro\n",
    "            \n",
    "            # gradiente local do neurônio de saída\n",
    "            # erro * derivada da funcao de ativacao\n",
    "            grad.local.saida <- erro * arq$der.funcao.ativacao(y)\n",
    "            \n",
    "            \n",
    "            # gradiente local dos neurônios escondidos\n",
    "            # derivada da funcao de ativação * (sum gradientes locais * pesos)\n",
    "            pesos.saida <- arq$saida[,1:arq$num.escondida]\n",
    "            grad.local.escondida <- as.numeric(arq$der.funcao.ativacao(resultado$y.entrada.escondida)) *\n",
    "                                         (grad.local.saida %*% pesos.saida)\n",
    "            \n",
    "            # ajuste dos pesos\n",
    "            # saida\n",
    "            arq$saida <- arq$saida + n * (grad.local.saida %*% c(resultado$y.entrada.escondida, 1))\n",
    "            # Escondida\n",
    "            arq$escondida <- arq$escondida + n * (t(grad.local.escondida) %*% as.numeric(c(x.entrada, 1)))\n",
    "        }\n",
    "        \n",
    "        erroQuadratico <- erroQuadratico/nrow(dados)\n",
    "        cat(\"Erro quadrático médio = \", erroQuadratico, \"\\n\")\n",
    "        epocas <- epocas + 1\n",
    "    }\n",
    "    \n",
    "    retorno <- list()\n",
    "    retorno$arq <- arq\n",
    "    retorno$epocas <- epocas\n",
    "    \n",
    "    return(retorno)\n",
    "}"
   ]
  },
  {
   "cell_type": "code",
   "execution_count": 2,
   "metadata": {},
   "outputs": [
    {
     "data": {
      "text/html": [
       "<table>\n",
       "<thead><tr><th scope=col>V1</th><th scope=col>V2</th><th scope=col>V3</th></tr></thead>\n",
       "<tbody>\n",
       "\t<tr><td>0</td><td>0</td><td>0</td></tr>\n",
       "\t<tr><td>0</td><td>1</td><td>1</td></tr>\n",
       "\t<tr><td>1</td><td>0</td><td>1</td></tr>\n",
       "\t<tr><td>1</td><td>1</td><td>0</td></tr>\n",
       "</tbody>\n",
       "</table>\n"
      ],
      "text/latex": [
       "\\begin{tabular}{r|lll}\n",
       " V1 & V2 & V3\\\\\n",
       "\\hline\n",
       "\t 0 & 0 & 0\\\\\n",
       "\t 0 & 1 & 1\\\\\n",
       "\t 1 & 0 & 1\\\\\n",
       "\t 1 & 1 & 0\\\\\n",
       "\\end{tabular}\n"
      ],
      "text/markdown": [
       "\n",
       "V1 | V2 | V3 | \n",
       "|---|---|---|---|\n",
       "| 0 | 0 | 0 | \n",
       "| 0 | 1 | 1 | \n",
       "| 1 | 0 | 1 | \n",
       "| 1 | 1 | 0 | \n",
       "\n",
       "\n"
      ],
      "text/plain": [
       "  V1 V2 V3\n",
       "1 0  0  0 \n",
       "2 0  1  1 \n",
       "3 1  0  1 \n",
       "4 1  1  0 "
      ]
     },
     "metadata": {},
     "output_type": "display_data"
    }
   ],
   "source": [
    "arq <- arquitetura(2, 2, 1, funcao.ativacao, der.funcao.ativacao)\n",
    "#arq\n",
    "dados <- read.table('dataset/XOR.txt')\n",
    "#dados\n",
    "\n",
    "modelo <- mpl.backpropagation(arq, dados, 30, 1e-3)"
   ]
  },
  {
   "cell_type": "code",
   "execution_count": 63,
   "metadata": {},
   "outputs": [
    {
     "data": {
      "text/html": [
       "<table>\n",
       "<tbody>\n",
       "\t<tr><td>0.9927911</td></tr>\n",
       "</tbody>\n",
       "</table>\n"
      ],
      "text/latex": [
       "\\begin{tabular}{l}\n",
       "\t 0.9927911\\\\\n",
       "\\end{tabular}\n"
      ],
      "text/markdown": [
       "\n",
       "| 0.9927911 | \n",
       "\n",
       "\n"
      ],
      "text/plain": [
       "     [,1]     \n",
       "[1,] 0.9927911"
      ]
     },
     "metadata": {},
     "output_type": "display_data"
    },
    {
     "data": {
      "text/html": [
       "415"
      ],
      "text/latex": [
       "415"
      ],
      "text/markdown": [
       "415"
      ],
      "text/plain": [
       "[1] 415"
      ]
     },
     "metadata": {},
     "output_type": "display_data"
    }
   ],
   "source": [
    "mlp.propagacao(modelo$arq, c(0, 1))$y.escondida.saida\n",
    "modelo$epocas"
   ]
  },
  {
   "cell_type": "code",
   "execution_count": null,
   "metadata": {},
   "outputs": [],
   "source": []
  }
 ],
 "metadata": {
  "kernelspec": {
   "display_name": "R",
   "language": "R",
   "name": "ir"
  },
  "language_info": {
   "codemirror_mode": "r",
   "file_extension": ".r",
   "mimetype": "text/x-r-source",
   "name": "R",
   "pygments_lexer": "r",
   "version": "3.3.2"
  }
 },
 "nbformat": 4,
 "nbformat_minor": 2
}
